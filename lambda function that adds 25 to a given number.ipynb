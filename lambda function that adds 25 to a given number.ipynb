{
 "cells": [
  {
   "cell_type": "markdown",
   "id": "832b6c0b",
   "metadata": {},
   "source": [
    "Write a Python program to create a lambda function that adds 25 to a given number passed in as an argument.\n",
    "\n",
    "\n",
    "\n",
    "sample input: 10\n",
    "\n",
    "sample output: 35# "
   ]
  },
  {
   "cell_type": "code",
   "execution_count": 6,
   "id": "83c7825a",
   "metadata": {},
   "outputs": [
    {
     "name": "stdout",
     "output_type": "stream",
     "text": [
      "enter a number is10\n",
      "35\n"
     ]
    }
   ],
   "source": [
    "s=int(input(\"enter a number is\"))\n",
    "add=lambda x:x+25\n",
    "print(add(10))"
   ]
  }
 ],
 "metadata": {
  "kernelspec": {
   "display_name": "Python 3 (ipykernel)",
   "language": "python",
   "name": "python3"
  },
  "language_info": {
   "codemirror_mode": {
    "name": "ipython",
    "version": 3
   },
   "file_extension": ".py",
   "mimetype": "text/x-python",
   "name": "python",
   "nbconvert_exporter": "python",
   "pygments_lexer": "ipython3",
   "version": "3.9.13"
  }
 },
 "nbformat": 4,
 "nbformat_minor": 5
}
